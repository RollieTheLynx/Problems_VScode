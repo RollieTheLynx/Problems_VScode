{
 "metadata": {
  "language_info": {
   "codemirror_mode": {
    "name": "ipython",
    "version": 3
   },
   "file_extension": ".py",
   "mimetype": "text/x-python",
   "name": "python",
   "nbconvert_exporter": "python",
   "pygments_lexer": "ipython3",
   "version": "3.8.8"
  },
  "orig_nbformat": 2,
  "kernelspec": {
   "name": "python388jvsc74a57bd0f151b24b04cabbfdedc31655818249dc1a89552a0f7401a5931a7620170b3924",
   "display_name": "Python 3.8.8 64-bit"
  },
  "metadata": {
   "interpreter": {
    "hash": "f151b24b04cabbfdedc31655818249dc1a89552a0f7401a5931a7620170b3924"
   }
  }
 },
 "nbformat": 4,
 "nbformat_minor": 2,
 "cells": [
  {
   "cell_type": "code",
   "execution_count": null,
   "metadata": {},
   "outputs": [],
   "source": [
    "# дефолтный tileset\n",
    "import folium\n",
    "lon, lat = -38.625, -12.875\n",
    "zoom_start = 8\n",
    "m = folium.Map(location=[lat, lon], tiles=\"OpenStreetMap\", zoom_start=zoom_start)\n",
    "m"
   ]
  },
  {
   "cell_type": "code",
   "execution_count": null,
   "metadata": {},
   "outputs": [],
   "source": [
    "# дефолтный tileset\n",
    "import folium\n",
    "lon, lat = -38.625, -12.875\n",
    "zoom_start = 8\n",
    "m = folium.Map(location=[lat, lon], tiles=\"Stamen Terrain\", zoom_start=zoom_start)\n",
    "m"
   ]
  },
  {
   "cell_type": "code",
   "execution_count": null,
   "metadata": {},
   "outputs": [],
   "source": [
    "# 2 дефолтных tileset с переключателем\n",
    "import folium\n",
    "attr = (\n",
    "    '&copy; Susanin tours presents'\n",
    ")\n",
    "m=folium.Map(location=[40.41063840248938, -3.705111216437358], zoom_start=4)\n",
    "folium.TileLayer('openstreetmap').add_to(m)\n",
    "folium.TileLayer('Stamen Terrain').add_to(m)\n",
    "folium.LayerControl().add_to(m)\n",
    "m"
   ]
  },
  {
   "cell_type": "code",
   "execution_count": null,
   "metadata": {},
   "outputs": [],
   "source": [
    "# кастом tileset\n",
    "import folium\n",
    "lon, lat = -38.625, -12.875\n",
    "zoom_start = 8\n",
    "attr = (\n",
    "    '&copy; <a href=\"http://www.openstreetmap.org/copyright\">OpenStreetMap</a> '\n",
    "    'contributors, &copy; <a href=\"http://cartodb.com/attributions\">CartoDB</a>'\n",
    ")\n",
    "tiles = \"http://{s}.basemaps.cartocdn.com/light_nolabels/{z}/{x}/{y}.png\"\n",
    "m = folium.Map(location=[lat, lon], tiles=tiles, attr=attr, zoom_start=zoom_start)\n",
    "m"
   ]
  },
  {
   "cell_type": "code",
   "execution_count": null,
   "metadata": {},
   "outputs": [],
   "source": [
    "# несколько кастом tileset с переключателем\n",
    "# https://stackoverflow.com/questions/61928013/adding-a-title-or-text-to-a-folium-map\n",
    "import folium\n",
    "tiles_ThunderforestOpenCycleMap = \"https://tile.thunderforest.com/cycle/{z}/{x}/{y}.png?apikey=ce25c70e28eb4ded9303efb165ce93b0\"\n",
    "tiles_CyclOSM = \"https://{s}.tile-cyclosm.openstreetmap.fr/cyclosm/{z}/{x}/{y}.png\"\n",
    "tiles_ESRI = 'https://server.arcgisonline.com/ArcGIS/rest/services/World_Imagery/MapServer/tile/{z}/{y}/{x}'\n",
    "\n",
    "attr_thunder = ('&copy; <a href=\"http://www.thunderforest.com/\">Thunderforest</a>, &copy; <a href=\"https://www.openstreetmap.org/copyright\">OpenStreetMap</a> contributors')\n",
    "attr_CyclOSM = ('<a href=\"https://github.com/cyclosm/cyclosm-cartocss-style/releases\" title=\"CyclOSM - Open Bicycle render\">CyclOSM</a> | Map data: &copy; <a href=\"https://www.openstreetmap.org/copyright\">OpenStreetMap</a> contributors')\n",
    "attr_ESRI = (\"Tiles &copy; Esri &mdash; Source: Esri, i-cubed, USDA, USGS, AEX, GeoEye, Getmapping, Aerogrid, IGN, IGP, UPR-EGP, and the GIS User Community\")\n",
    "\n",
    "m=folium.Map(location=[40.41063840248938, -3.705111216437358], zoom_start=4)\n",
    "folium.TileLayer(tiles_ThunderforestOpenCycleMap, attr=attr_thunder, name = 'ThunderforestOpenCycleMap').add_to(m)\n",
    "folium.TileLayer(tiles_CyclOSM, attr=attr_CyclOSM, name = 'CyclOSM').add_to(m)\n",
    "folium.TileLayer(tiles_ESRI, attr=attr_ESRI, name = 'ESRI.WorldImagery').add_to(m)\n",
    "folium.LayerControl().add_to(m)\n",
    "#m.add_child(folium.ClickForMarker(popup=\"Waypoint\"))\n",
    "m.save(\"layers.html\")\n",
    "m"
   ]
  },
  {
   "cell_type": "code",
   "execution_count": null,
   "metadata": {},
   "outputs": [],
   "source": []
  }
 ]
}