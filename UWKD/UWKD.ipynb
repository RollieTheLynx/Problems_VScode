{
 "cells": [
  {
   "cell_type": "markdown",
   "metadata": {},
   "source": [
    "This script shows all flights currently on route to Kazan airport"
   ]
  },
  {
   "cell_type": "code",
   "execution_count": 1,
   "metadata": {},
   "outputs": [],
   "source": [
    "# from my_keys import avaviationstack_key\n",
    "import requests\n",
    "import json\n",
    "import pandas as pd\n",
    "import folium\n",
    "#  ключ лежит в папке выше этого скрипта\n",
    "import sys, os.path\n",
    "sys.path.append(os.path.abspath('../'))\n",
    "from my_keys import avaviationstack_key "
   ]
  },
  {
   "cell_type": "code",
   "execution_count": 2,
   "metadata": {},
   "outputs": [
    {
     "name": "stdout",
     "output_type": "stream",
     "text": [
      "  flight_date flight_status  \\\n",
      "0  2023-02-14     scheduled   \n",
      "1  2023-02-14     scheduled   \n",
      "2  2023-02-14     scheduled   \n",
      "3  2023-02-14     scheduled   \n",
      "4  2023-02-14     scheduled   \n",
      "5  2023-02-14     scheduled   \n",
      "6  2023-02-14     scheduled   \n",
      "7  2023-02-14     scheduled   \n",
      "8  2023-02-14     scheduled   \n",
      "9  2023-02-14     scheduled   \n",
      "\n",
      "                                           departure  \\\n",
      "0  {'airport': None, 'timezone': None, 'iata': 'L...   \n",
      "1  {'airport': None, 'timezone': None, 'iata': 'S...   \n",
      "2  {'airport': None, 'timezone': None, 'iata': 'S...   \n",
      "3  {'airport': None, 'timezone': None, 'iata': 'S...   \n",
      "4  {'airport': None, 'timezone': None, 'iata': 'L...   \n",
      "5  {'airport': None, 'timezone': None, 'iata': 'L...   \n",
      "6  {'airport': None, 'timezone': None, 'iata': 'M...   \n",
      "7  {'airport': None, 'timezone': None, 'iata': 'L...   \n",
      "8  {'airport': None, 'timezone': None, 'iata': 'S...   \n",
      "9  {'airport': None, 'timezone': None, 'iata': 'E...   \n",
      "\n",
      "                                             arrival  \\\n",
      "0  {'airport': None, 'timezone': None, 'iata': 'K...   \n",
      "1  {'airport': None, 'timezone': None, 'iata': 'K...   \n",
      "2  {'airport': None, 'timezone': None, 'iata': 'K...   \n",
      "3  {'airport': None, 'timezone': None, 'iata': 'K...   \n",
      "4  {'airport': None, 'timezone': None, 'iata': 'K...   \n",
      "5  {'airport': None, 'timezone': None, 'iata': 'K...   \n",
      "6  {'airport': None, 'timezone': None, 'iata': 'K...   \n",
      "7  {'airport': None, 'timezone': None, 'iata': 'K...   \n",
      "8  {'airport': None, 'timezone': None, 'iata': 'K...   \n",
      "9  {'airport': None, 'timezone': None, 'iata': 'K...   \n",
      "\n",
      "                                             airline  \\\n",
      "0  {'name': 'Aeroflot', 'iata': 'SU', 'icao': 'AFL'}   \n",
      "1  {'name': 'Aeroflot', 'iata': 'SU', 'icao': 'AFL'}   \n",
      "2  {'name': 'Nordwind Airlines', 'iata': 'N4', 'i...   \n",
      "3   {'name': 'RusLine', 'iata': '7R', 'icao': 'RLU'}   \n",
      "4  {'name': 'Nordwind Airlines', 'iata': 'N4', 'i...   \n",
      "5  {'name': 'Smartavia', 'iata': '5N', 'icao': 'A...   \n",
      "6  {'name': 'UVT Aero', 'iata': 'UVT', 'icao': 'U...   \n",
      "7    {'name': 'Pobeda', 'iata': 'DP', 'icao': 'PBD'}   \n",
      "8  {'name': 'Aeroflot', 'iata': 'SU', 'icao': 'AFL'}   \n",
      "9  {'name': 'Armenia Airways', 'iata': '6A', 'ica...   \n",
      "\n",
      "                                              flight aircraft  live  \\\n",
      "0  {'number': '6595', 'iata': 'SU6595', 'icao': '...     None  None   \n",
      "1  {'number': '1278', 'iata': 'SU1278', 'icao': '...     None  None   \n",
      "2  {'number': '59', 'iata': 'N459', 'icao': 'NWS5...     None  None   \n",
      "3  {'number': '861', 'iata': '7R861', 'icao': 'RL...     None  None   \n",
      "4  {'number': '249', 'iata': 'N4249', 'icao': 'NW...     None  None   \n",
      "5  {'number': '537', 'iata': '5N537', 'icao': 'AU...     None  None   \n",
      "6  {'number': '1521', 'iata': 'UVT1521', 'icao': ...     None  None   \n",
      "7  {'number': '547', 'iata': 'DP547', 'icao': 'PB...     None  None   \n",
      "8  {'number': '1194', 'iata': 'SU1194', 'icao': '...     None  None   \n",
      "9  {'number': '950', 'iata': '6A950', 'icao': 'AM...     None  None   \n",
      "\n",
      "  departure_icao  \n",
      "0           ULLI  \n",
      "1           UUEE  \n",
      "2           UUEE  \n",
      "3           USSS  \n",
      "4           ULLI  \n",
      "5           ULLI  \n",
      "6           USCM  \n",
      "7           ULLI  \n",
      "8           UUEE  \n",
      "9           UDYZ  \n"
     ]
    }
   ],
   "source": [
    "def load_page(offset, limit):\n",
    "    try:\n",
    "        api_request = requests.get(f\"http://api.aviationstack.com/v1/flights?access_key={avaviationstack_key}&arr_icao=UWKD&offset={offset}&limit={limit}\")\n",
    "        reply = json.loads(api_request.content)\n",
    "    except Exception:\n",
    "        reply = \"Error...\"\n",
    "    #  если мы не выбрали все результаты в последнем запросе, делаем следующий с нужным offset\n",
    "    if reply['pagination']['offset'] + reply['pagination']['count'] < reply['pagination']['total']:\n",
    "        next_offset = reply['pagination']['offset'] + reply['pagination']['count']\n",
    "    else:\n",
    "        next_offset = None\n",
    "    return reply['data'], next_offset\n",
    "\n",
    "\n",
    "offset = 0\n",
    "result = []\n",
    "\n",
    "while offset is not None:\n",
    "    data, offset = load_page(offset=offset, limit=100)\n",
    "    result.extend(data)\n",
    "\n",
    "df = pd.DataFrame.from_dict(result)\n",
    "df['departure_icao'] = [d.get('icao') for d in df.departure]\n",
    "print(df.head(10))\n",
    "df.to_excel('UWKD flights.xlsx')"
   ]
  },
  {
   "cell_type": "code",
   "execution_count": 3,
   "metadata": {},
   "outputs": [
    {
     "name": "stdout",
     "output_type": "stream",
     "text": [
      "       id ident           type                                name  \\\n",
      "0    6523   00A       heliport                   Total Rf Heliport   \n",
      "1  323361  00AA  small_airport                Aero B Ranch Airport   \n",
      "2    6524  00AK  small_airport                        Lowell Field   \n",
      "3    6525  00AL  small_airport                        Epps Airpark   \n",
      "4    6526  00AR         closed  Newport Hospital & Clinic Heliport   \n",
      "5  322127  00AS  small_airport                      Fulton Airport   \n",
      "6    6527  00AZ  small_airport                      Cordes Airport   \n",
      "7    6528  00CA  small_airport             Goldstone /Gts/ Airport   \n",
      "8  324424  00CL  small_airport                 Williams Ag Airport   \n",
      "9  322658  00CN       heliport     Kitchen Creek Helibase Heliport   \n",
      "\n",
      "   latitude_deg  longitude_deg  elevation_ft continent iso_country iso_region  \\\n",
      "0     40.070801     -74.933601          11.0       NaN          US      US-PA   \n",
      "1     38.704022    -101.473911        3435.0       NaN          US      US-KS   \n",
      "2     59.949200    -151.695999         450.0       NaN          US      US-AK   \n",
      "3     34.864799     -86.770302         820.0       NaN          US      US-AL   \n",
      "4     35.608700     -91.254898         237.0       NaN          US      US-AR   \n",
      "5     34.942803     -97.818019        1100.0       NaN          US      US-OK   \n",
      "6     34.305599    -112.165001        3810.0       NaN          US      US-AZ   \n",
      "7     35.350498    -116.888000        3038.0       NaN          US      US-CA   \n",
      "8     39.427188    -121.763427          87.0       NaN          US      US-CA   \n",
      "9     32.727374    -116.459742        3350.0       NaN          US      US-CA   \n",
      "\n",
      "   municipality scheduled_service gps_code local_code  \n",
      "0      Bensalem                no      00A        00A  \n",
      "1         Leoti                no     00AA       00AA  \n",
      "2  Anchor Point                no     00AK       00AK  \n",
      "3       Harvest                no     00AL       00AL  \n",
      "4       Newport                no      NaN        NaN  \n",
      "5          Alex                no     00AS       00AS  \n",
      "6        Cordes                no     00AZ       00AZ  \n",
      "7       Barstow                no     00CA       00CA  \n",
      "8         Biggs                no     00CL       00CL  \n",
      "9   Pine Valley                no     00CN       00CN  \n"
     ]
    }
   ],
   "source": [
    "airports = pd.read_csv(\"airport_code.csv\")\n",
    "print(airports.head(10))"
   ]
  },
  {
   "cell_type": "code",
   "execution_count": 4,
   "metadata": {},
   "outputs": [],
   "source": [
    "df = pd.read_excel('UWKD flights.xlsx', sheet_name='Sheet1')\n",
    "df = pd.merge(df, airports, how='left', left_on=['departure_icao'], right_on=['ident'])"
   ]
  },
  {
   "cell_type": "code",
   "execution_count": 17,
   "metadata": {},
   "outputs": [],
   "source": [
    "uwkd_coords = 55.606201171875, 49.278701782227\n",
    "df_markers = df.loc[df['flight_status'] == 'active', ['municipality', 'latitude_deg', 'longitude_deg', 'arrival']].dropna(axis=0)"
   ]
  },
  {
   "cell_type": "code",
   "execution_count": 39,
   "metadata": {},
   "outputs": [
    {
     "name": "stdout",
     "output_type": "stream",
     "text": [
      "{\"airport\": None, \"timezone\": None, \"iata\": \"KZN\", \"icao\": \"UWKD\", \"terminal\": \"1A\", \"gate\": None, \"baggage\": None, \"delay\": None, \"scheduled\": \"2023-02-14T20:00:00+00:00\", \"estimated\": \"2023-02-14T20:00:00+00:00\", \"actual\": None, \"estimated_runway\": None, \"actual_runway\": None}\n"
     ]
    },
    {
     "ename": "JSONDecodeError",
     "evalue": "Expecting value: line 1 column 13 (char 12)",
     "output_type": "error",
     "traceback": [
      "\u001b[1;31m---------------------------------------------------------------------------\u001b[0m",
      "\u001b[1;31mJSONDecodeError\u001b[0m                           Traceback (most recent call last)",
      "\u001b[1;32m~\\AppData\\Local\\Temp/ipykernel_6944/4194873442.py\u001b[0m in \u001b[0;36m<module>\u001b[1;34m\u001b[0m\n\u001b[0;32m      4\u001b[0m \u001b[1;32mfor\u001b[0m \u001b[0mindex\u001b[0m\u001b[1;33m,\u001b[0m \u001b[0mrow\u001b[0m \u001b[1;32min\u001b[0m \u001b[0mdf_markers\u001b[0m\u001b[1;33m.\u001b[0m\u001b[0miterrows\u001b[0m\u001b[1;33m(\u001b[0m\u001b[1;33m)\u001b[0m\u001b[1;33m:\u001b[0m\u001b[1;33m\u001b[0m\u001b[1;33m\u001b[0m\u001b[0m\n\u001b[0;32m      5\u001b[0m     \u001b[0mprint\u001b[0m\u001b[1;33m(\u001b[0m\u001b[0mrow\u001b[0m\u001b[1;33m[\u001b[0m\u001b[1;34m'arrival'\u001b[0m\u001b[1;33m]\u001b[0m\u001b[1;33m.\u001b[0m\u001b[0mreplace\u001b[0m\u001b[1;33m(\u001b[0m\u001b[1;34m\"'\"\u001b[0m\u001b[1;33m,\u001b[0m \u001b[1;34m'\"'\u001b[0m\u001b[1;33m)\u001b[0m\u001b[1;33m)\u001b[0m\u001b[1;33m\u001b[0m\u001b[1;33m\u001b[0m\u001b[0m\n\u001b[1;32m----> 6\u001b[1;33m     \u001b[0mprint\u001b[0m\u001b[1;33m(\u001b[0m\u001b[0mjson\u001b[0m\u001b[1;33m.\u001b[0m\u001b[0mloads\u001b[0m\u001b[1;33m(\u001b[0m\u001b[0mrow\u001b[0m\u001b[1;33m[\u001b[0m\u001b[1;34m'arrival'\u001b[0m\u001b[1;33m]\u001b[0m\u001b[1;33m.\u001b[0m\u001b[0mreplace\u001b[0m\u001b[1;33m(\u001b[0m\u001b[1;34m\"'\"\u001b[0m\u001b[1;33m,\u001b[0m \u001b[1;34m'\"'\u001b[0m\u001b[1;33m)\u001b[0m\u001b[1;33m)\u001b[0m\u001b[1;33m)\u001b[0m\u001b[1;33m\u001b[0m\u001b[1;33m\u001b[0m\u001b[0m\n\u001b[0m\u001b[0;32m      7\u001b[0m     \u001b[0mfolium\u001b[0m\u001b[1;33m.\u001b[0m\u001b[0mMarker\u001b[0m\u001b[1;33m(\u001b[0m\u001b[0mlocation\u001b[0m\u001b[1;33m=\u001b[0m\u001b[1;33m(\u001b[0m\u001b[0mrow\u001b[0m\u001b[1;33m[\u001b[0m\u001b[1;34m'latitude_deg'\u001b[0m\u001b[1;33m]\u001b[0m\u001b[1;33m,\u001b[0m \u001b[0mrow\u001b[0m\u001b[1;33m[\u001b[0m\u001b[1;34m'longitude_deg'\u001b[0m\u001b[1;33m]\u001b[0m\u001b[1;33m)\u001b[0m\u001b[1;33m,\u001b[0m \u001b[0mpopup\u001b[0m\u001b[1;33m=\u001b[0m\u001b[0mrow\u001b[0m\u001b[1;33m[\u001b[0m\u001b[1;34m'municipality'\u001b[0m\u001b[1;33m]\u001b[0m\u001b[1;33m)\u001b[0m\u001b[1;33m.\u001b[0m\u001b[0madd_to\u001b[0m\u001b[1;33m(\u001b[0m\u001b[0mmap\u001b[0m\u001b[1;33m)\u001b[0m\u001b[1;33m\u001b[0m\u001b[1;33m\u001b[0m\u001b[0m\n\u001b[0;32m      8\u001b[0m     \u001b[0mfolium\u001b[0m\u001b[1;33m.\u001b[0m\u001b[0mPolyLine\u001b[0m\u001b[1;33m(\u001b[0m\u001b[1;33m[\u001b[0m\u001b[1;33m(\u001b[0m\u001b[0mrow\u001b[0m\u001b[1;33m[\u001b[0m\u001b[1;34m'latitude_deg'\u001b[0m\u001b[1;33m]\u001b[0m\u001b[1;33m,\u001b[0m \u001b[0mrow\u001b[0m\u001b[1;33m[\u001b[0m\u001b[1;34m'longitude_deg'\u001b[0m\u001b[1;33m]\u001b[0m\u001b[1;33m)\u001b[0m\u001b[1;33m,\u001b[0m \u001b[0muwkd_coords\u001b[0m\u001b[1;33m]\u001b[0m\u001b[1;33m,\u001b[0m \u001b[0mweight\u001b[0m\u001b[1;33m=\u001b[0m\u001b[1;36m2\u001b[0m\u001b[1;33m,\u001b[0m \u001b[0mcolor\u001b[0m\u001b[1;33m=\u001b[0m\u001b[1;34m\"red\"\u001b[0m\u001b[1;33m)\u001b[0m\u001b[1;33m.\u001b[0m\u001b[0madd_to\u001b[0m\u001b[1;33m(\u001b[0m\u001b[0mmap\u001b[0m\u001b[1;33m)\u001b[0m\u001b[1;33m\u001b[0m\u001b[1;33m\u001b[0m\u001b[0m\n",
      "\u001b[1;32m~\\AppData\\Local\\Programs\\Python\\Python310\\lib\\json\\__init__.py\u001b[0m in \u001b[0;36mloads\u001b[1;34m(s, cls, object_hook, parse_float, parse_int, parse_constant, object_pairs_hook, **kw)\u001b[0m\n\u001b[0;32m    344\u001b[0m             \u001b[0mparse_int\u001b[0m \u001b[1;32mis\u001b[0m \u001b[1;32mNone\u001b[0m \u001b[1;32mand\u001b[0m \u001b[0mparse_float\u001b[0m \u001b[1;32mis\u001b[0m \u001b[1;32mNone\u001b[0m \u001b[1;32mand\u001b[0m\u001b[1;33m\u001b[0m\u001b[1;33m\u001b[0m\u001b[0m\n\u001b[0;32m    345\u001b[0m             parse_constant is None and object_pairs_hook is None and not kw):\n\u001b[1;32m--> 346\u001b[1;33m         \u001b[1;32mreturn\u001b[0m \u001b[0m_default_decoder\u001b[0m\u001b[1;33m.\u001b[0m\u001b[0mdecode\u001b[0m\u001b[1;33m(\u001b[0m\u001b[0ms\u001b[0m\u001b[1;33m)\u001b[0m\u001b[1;33m\u001b[0m\u001b[1;33m\u001b[0m\u001b[0m\n\u001b[0m\u001b[0;32m    347\u001b[0m     \u001b[1;32mif\u001b[0m \u001b[0mcls\u001b[0m \u001b[1;32mis\u001b[0m \u001b[1;32mNone\u001b[0m\u001b[1;33m:\u001b[0m\u001b[1;33m\u001b[0m\u001b[1;33m\u001b[0m\u001b[0m\n\u001b[0;32m    348\u001b[0m         \u001b[0mcls\u001b[0m \u001b[1;33m=\u001b[0m \u001b[0mJSONDecoder\u001b[0m\u001b[1;33m\u001b[0m\u001b[1;33m\u001b[0m\u001b[0m\n",
      "\u001b[1;32m~\\AppData\\Local\\Programs\\Python\\Python310\\lib\\json\\decoder.py\u001b[0m in \u001b[0;36mdecode\u001b[1;34m(self, s, _w)\u001b[0m\n\u001b[0;32m    335\u001b[0m \u001b[1;33m\u001b[0m\u001b[0m\n\u001b[0;32m    336\u001b[0m         \"\"\"\n\u001b[1;32m--> 337\u001b[1;33m         \u001b[0mobj\u001b[0m\u001b[1;33m,\u001b[0m \u001b[0mend\u001b[0m \u001b[1;33m=\u001b[0m \u001b[0mself\u001b[0m\u001b[1;33m.\u001b[0m\u001b[0mraw_decode\u001b[0m\u001b[1;33m(\u001b[0m\u001b[0ms\u001b[0m\u001b[1;33m,\u001b[0m \u001b[0midx\u001b[0m\u001b[1;33m=\u001b[0m\u001b[0m_w\u001b[0m\u001b[1;33m(\u001b[0m\u001b[0ms\u001b[0m\u001b[1;33m,\u001b[0m \u001b[1;36m0\u001b[0m\u001b[1;33m)\u001b[0m\u001b[1;33m.\u001b[0m\u001b[0mend\u001b[0m\u001b[1;33m(\u001b[0m\u001b[1;33m)\u001b[0m\u001b[1;33m)\u001b[0m\u001b[1;33m\u001b[0m\u001b[1;33m\u001b[0m\u001b[0m\n\u001b[0m\u001b[0;32m    338\u001b[0m         \u001b[0mend\u001b[0m \u001b[1;33m=\u001b[0m \u001b[0m_w\u001b[0m\u001b[1;33m(\u001b[0m\u001b[0ms\u001b[0m\u001b[1;33m,\u001b[0m \u001b[0mend\u001b[0m\u001b[1;33m)\u001b[0m\u001b[1;33m.\u001b[0m\u001b[0mend\u001b[0m\u001b[1;33m(\u001b[0m\u001b[1;33m)\u001b[0m\u001b[1;33m\u001b[0m\u001b[1;33m\u001b[0m\u001b[0m\n\u001b[0;32m    339\u001b[0m         \u001b[1;32mif\u001b[0m \u001b[0mend\u001b[0m \u001b[1;33m!=\u001b[0m \u001b[0mlen\u001b[0m\u001b[1;33m(\u001b[0m\u001b[0ms\u001b[0m\u001b[1;33m)\u001b[0m\u001b[1;33m:\u001b[0m\u001b[1;33m\u001b[0m\u001b[1;33m\u001b[0m\u001b[0m\n",
      "\u001b[1;32m~\\AppData\\Local\\Programs\\Python\\Python310\\lib\\json\\decoder.py\u001b[0m in \u001b[0;36mraw_decode\u001b[1;34m(self, s, idx)\u001b[0m\n\u001b[0;32m    353\u001b[0m             \u001b[0mobj\u001b[0m\u001b[1;33m,\u001b[0m \u001b[0mend\u001b[0m \u001b[1;33m=\u001b[0m \u001b[0mself\u001b[0m\u001b[1;33m.\u001b[0m\u001b[0mscan_once\u001b[0m\u001b[1;33m(\u001b[0m\u001b[0ms\u001b[0m\u001b[1;33m,\u001b[0m \u001b[0midx\u001b[0m\u001b[1;33m)\u001b[0m\u001b[1;33m\u001b[0m\u001b[1;33m\u001b[0m\u001b[0m\n\u001b[0;32m    354\u001b[0m         \u001b[1;32mexcept\u001b[0m \u001b[0mStopIteration\u001b[0m \u001b[1;32mas\u001b[0m \u001b[0merr\u001b[0m\u001b[1;33m:\u001b[0m\u001b[1;33m\u001b[0m\u001b[1;33m\u001b[0m\u001b[0m\n\u001b[1;32m--> 355\u001b[1;33m             \u001b[1;32mraise\u001b[0m \u001b[0mJSONDecodeError\u001b[0m\u001b[1;33m(\u001b[0m\u001b[1;34m\"Expecting value\"\u001b[0m\u001b[1;33m,\u001b[0m \u001b[0ms\u001b[0m\u001b[1;33m,\u001b[0m \u001b[0merr\u001b[0m\u001b[1;33m.\u001b[0m\u001b[0mvalue\u001b[0m\u001b[1;33m)\u001b[0m \u001b[1;32mfrom\u001b[0m \u001b[1;32mNone\u001b[0m\u001b[1;33m\u001b[0m\u001b[1;33m\u001b[0m\u001b[0m\n\u001b[0m\u001b[0;32m    356\u001b[0m         \u001b[1;32mreturn\u001b[0m \u001b[0mobj\u001b[0m\u001b[1;33m,\u001b[0m \u001b[0mend\u001b[0m\u001b[1;33m\u001b[0m\u001b[1;33m\u001b[0m\u001b[0m\n",
      "\u001b[1;31mJSONDecodeError\u001b[0m: Expecting value: line 1 column 13 (char 12)"
     ]
    }
   ],
   "source": [
    "map = folium.Map(location=uwkd_coords, zoom_start=4)\n",
    "folium.Marker(location=uwkd_coords, popup='Kazan').add_to(map)\n",
    "\n",
    "for index, row in df_markers.iterrows():\n",
    "    print(row['arrival'].replace(\"'\", '\"'))\n",
    "    print(json.loads(row['arrival'].replace(\"'\", '\"')))\n",
    "    folium.Marker(location=(row['latitude_deg'], row['longitude_deg']), popup=row['municipality']).add_to(map)\n",
    "    folium.PolyLine([(row['latitude_deg'], row['longitude_deg']), uwkd_coords], weight=2, color=\"red\").add_to(map)\n",
    "\n",
    "map\n",
    "# m.save('line_example.html')"
   ]
  }
 ],
 "metadata": {
  "interpreter": {
   "hash": "2ce1734805329692b170eb3bdd8419ec2350a8fa64dd2ce328dd8f044c981cc2"
  },
  "kernelspec": {
   "display_name": "Python 3.8.8 64-bit",
   "language": "python",
   "name": "python3"
  },
  "language_info": {
   "codemirror_mode": {
    "name": "ipython",
    "version": 3
   },
   "file_extension": ".py",
   "mimetype": "text/x-python",
   "name": "python",
   "nbconvert_exporter": "python",
   "pygments_lexer": "ipython3",
   "version": "3.10.0"
  },
  "metadata": {
   "interpreter": {
    "hash": "f151b24b04cabbfdedc31655818249dc1a89552a0f7401a5931a7620170b3924"
   }
  },
  "orig_nbformat": 2
 },
 "nbformat": 4,
 "nbformat_minor": 2
}
