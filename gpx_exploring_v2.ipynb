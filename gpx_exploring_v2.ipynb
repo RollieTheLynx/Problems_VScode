{
 "metadata": {
  "language_info": {
   "codemirror_mode": {
    "name": "ipython",
    "version": 3
   },
   "file_extension": ".py",
   "mimetype": "text/x-python",
   "name": "python",
   "nbconvert_exporter": "python",
   "pygments_lexer": "ipython3",
   "version": "3.8.8"
  },
  "orig_nbformat": 2,
  "kernelspec": {
   "name": "python388jvsc74a57bd0f151b24b04cabbfdedc31655818249dc1a89552a0f7401a5931a7620170b3924",
   "display_name": "Python 3.8.8 64-bit"
  },
  "metadata": {
   "interpreter": {
    "hash": "f151b24b04cabbfdedc31655818249dc1a89552a0f7401a5931a7620170b3924"
   }
  }
 },
 "nbformat": 4,
 "nbformat_minor": 2,
 "cells": [
  {
   "cell_type": "code",
   "execution_count": 48,
   "metadata": {},
   "outputs": [],
   "source": [
    "import matplotlib.pyplot as plt\n",
    "import time\n",
    "from IPython import display\n",
    "from xml.dom import minidom\n",
    "import math\n",
    "from exif import Image\n",
    "import base64\n",
    "import folium\n",
    "import os\n",
    "from datetime import datetime\n",
    "import random\n"
   ]
  },
  {
   "cell_type": "code",
   "execution_count": 49,
   "metadata": {},
   "outputs": [],
   "source": [
    "colors = [\"black\",\"silver\",\"gray\",\"maroon\",\"red\",\"purple\",\"fuchsia\",\"green\",\"lime\",\"olive\",\"yellow\",\"navy\",\"blue\",\"teal\",\"aqua\",\"aliceblue\",\"antiquewhite\",\"aqua\",\"aquamarine\",\"beige\",\"bisque\",\"black\",\"blanchedalmond\",\"blue\",\"blueviolet\",\"brown\",\"burlywood\",\"cadetblue\",\"chartreuse\",\"chocolate\",\"coral\",\"cornflowerblue\",\"crimson\",\"cyan\",\"darkblue\",\"darkcyan\",\"darkgoldenrod\",\"darkgray\",\"darkgreen\",\"darkgrey\",\"darkkhaki\",\"darkmagenta\",\"darkolivegreen\",\"darkorange\",\"darkorchid\",\"darkred\",\"darksalmon\",\"darkseagreen\",\"darkslateblue\",\"darkslategray\",\"darkslategrey\",\"darkturquoise\",\"darkviolet\",\"deeppink\",\"deepskyblue\",\"dimgray\",\"dimgrey\",\"dodgerblue\",\"firebrick\",\"forestgreen\",\"fuchsia\",\"gainsboro\",\"gold\",\"goldenrod\",\"gray\",\"green\",\"greenyellow\",\"grey\",\"honeydew\",\"hotpink\",\"indianred\",\"indigo\",\"khaki\",\"lavenderblush\",\"lawngreen\",\"lemonchiffon\",\"lightblue\",\"lightcoral\",\"lightgoldenrodyellow\",\"lightgray\",\"lightgreen\",\"lightgrey\",\"lightpink\",\"lightsalmon\",\"lightseagreen\",\"lightskyblue\",\"lightslategray\",\"lightslategrey\",\"lightsteelblue\",\"lime\",\"limegreen\",\"linen\",\"magenta\",\"maroon\",\"mediumaquamarine\",\"mediumblue\",\"mediumorchid\",\"mediumpurple\",\"mediumseagreen\",\"mediumslateblue\",\"mediumspringgreen\",\"mediumturquoise\",\"mediumvioletred\",\"midnightblue\",\"mistyrose\",\"moccasin\",\"navajowhite\",\"navy\",\"oldlace\",\"olive\",\"olivedrab\",\"orange\",\"orangered\",\"orchid\",\"palegoldenrod\",\"palegreen\",\"paleturquoise\",\"palevioletred\",\"papayawhip\",\"peachpuff\",\"peru\",\"pink\",\"plum\",\"powderblue\",\"purple\",\"red\",\"rosybrown\",\"royalblue\",\"saddlebrown\",\"salmon\",\"sandybrown\",\"seagreen\",\"seashell\",\"sienna\",\"silver\",\"skyblue\",\"slateblue\",\"slategray\",\"slategrey\",\"springgreen\",\"steelblue\",\"tan\",\"teal\",\"thistle\",\"tomato\",\"turquoise\",\"violet\",\"wheat\",\"whitesmoke\",\"yellow\",\"yellowgreen\"]"
   ]
  },
  {
   "cell_type": "code",
   "execution_count": 50,
   "metadata": {},
   "outputs": [
    {
     "output_type": "stream",
     "name": "stdout",
     "text": [
      "C:\\Users\\TN90072\\Documents\\Python_Scripts\\Problems_VScode\\Germany GPX\\1 августа 2019.gpx: indigo\n",
      "C:\\Users\\TN90072\\Documents\\Python_Scripts\\Problems_VScode\\Germany GPX\\11 августа 2019.gpx: bisque\n",
      "C:\\Users\\TN90072\\Documents\\Python_Scripts\\Problems_VScode\\Germany GPX\\12 августа 2019.gpx: mediumaquamarine\n",
      "C:\\Users\\TN90072\\Documents\\Python_Scripts\\Problems_VScode\\Germany GPX\\13 августа 2019 - 2.gpx: navy\n",
      "C:\\Users\\TN90072\\Documents\\Python_Scripts\\Problems_VScode\\Germany GPX\\13 августа 2019.gpx: lavenderblush\n",
      "C:\\Users\\TN90072\\Documents\\Python_Scripts\\Problems_VScode\\Germany GPX\\14 августа 2019.gpx: lightgreen\n",
      "C:\\Users\\TN90072\\Documents\\Python_Scripts\\Problems_VScode\\Germany GPX\\15 августа 2019.gpx: darkorange\n",
      "C:\\Users\\TN90072\\Documents\\Python_Scripts\\Problems_VScode\\Germany GPX\\18 августа 2019.gpx: greenyellow\n",
      "C:\\Users\\TN90072\\Documents\\Python_Scripts\\Problems_VScode\\Germany GPX\\2 августа 2019.gpx: royalblue\n",
      "C:\\Users\\TN90072\\Documents\\Python_Scripts\\Problems_VScode\\Germany GPX\\27 июля 2019.gpx: peru\n",
      "C:\\Users\\TN90072\\Documents\\Python_Scripts\\Problems_VScode\\Germany GPX\\31 июля 2019.gpx: darkred\n",
      "C:\\Users\\TN90072\\Documents\\Python_Scripts\\Problems_VScode\\Germany GPX\\4 августа 2019.gpx: plum\n",
      "C:\\Users\\TN90072\\Documents\\Python_Scripts\\Problems_VScode\\Germany GPX\\5 августа 2019.gpx: darkslategrey\n",
      "C:\\Users\\TN90072\\Documents\\Python_Scripts\\Problems_VScode\\Germany GPX\\6 августа 2019.gpx: lightslategrey\n",
      "C:\\Users\\TN90072\\Documents\\Python_Scripts\\Problems_VScode\\Germany GPX\\7 августа 2019.gpx: lime\n",
      "C:\\Users\\TN90072\\Documents\\Python_Scripts\\Problems_VScode\\Germany GPX\\8 августа 2019.gpx: darkolivegreen\n",
      "C:\\Users\\TN90072\\Documents\\Python_Scripts\\Problems_VScode\\Germany GPX\\9 августа 2019.gpx: orchid\n",
      "C:\\Users\\TN90072\\Documents\\Python_Scripts\\Problems_VScode\\Germany GPX\\Bad_Windsheim_Rothenburg_ob_der_Tauber.gpx: gold\n",
      "C:\\Users\\TN90072\\Documents\\Python_Scripts\\Problems_VScode\\Germany GPX\\Berlin_R_digke.gpx: silver\n",
      "C:\\Users\\TN90072\\Documents\\Python_Scripts\\Problems_VScode\\Germany GPX\\Bitterfeld_Naumburg.gpx: navajowhite\n",
      "C:\\Users\\TN90072\\Documents\\Python_Scripts\\Problems_VScode\\Germany GPX\\Dortmund_Quellental.gpx: aliceblue\n",
      "C:\\Users\\TN90072\\Documents\\Python_Scripts\\Problems_VScode\\Germany GPX\\Kronach_Lichtenfels.gpx: royalblue\n",
      "C:\\Users\\TN90072\\Documents\\Python_Scripts\\Problems_VScode\\Germany GPX\\Naumburg_food.gpx: steelblue\n",
      "C:\\Users\\TN90072\\Documents\\Python_Scripts\\Problems_VScode\\Germany GPX\\Naumburg_Saalfeld.gpx: gainsboro\n",
      "C:\\Users\\TN90072\\Documents\\Python_Scripts\\Problems_VScode\\Germany GPX\\R_digke_Bitterfeld.gpx: chocolate\n",
      "C:\\Users\\TN90072\\Documents\\Python_Scripts\\Problems_VScode\\Germany GPX\\Saalfeld_Probstzella.gpx: deeppink\n"
     ]
    }
   ],
   "source": [
    "gpx_folder = 'C:\\\\Users\\\\TN90072\\\\Documents\\\\Python_Scripts\\\\Problems_VScode\\\\Germany GPX'\n",
    "gpx_files = []\n",
    "for root, dirs, files in os.walk(gpx_folder,topdown = True):\n",
    "    for gpx in files: \n",
    "        _, ending = os.path.splitext(gpx)\n",
    "        if ending == \".gpx\":\n",
    "            gpx_files.append(os.path.join(root,gpx))\n",
    "\n",
    "\n",
    "dlon,dlat=minidom.parse(gpx_files[0]).getElementsByTagName('trkpt')[0].attributes['lon'].value,minidom.parse(gpx_files[0]).getElementsByTagName('trkpt')[0].attributes['lat'].value\n",
    "myMap = folium.Map(location=[dlon, dlat], zoom_start=12)\n",
    "\n",
    "for gpx in gpx_files:\n",
    "    data=open(gpx)\n",
    "    xmldoc = minidom.parse(data)\n",
    "    track = xmldoc.getElementsByTagName('trkpt')\n",
    "    elevation=xmldoc.getElementsByTagName('ele')\n",
    "    date_time=xmldoc.getElementsByTagName('time')\n",
    "    n_track=len(track)\n",
    "    \n",
    "    #PARSING GPX ELEMENT\n",
    "    lon_list=[]\n",
    "    lat_list=[]\n",
    "    for s in range(n_track):\n",
    "        lon,lat=track[s].attributes['lon'].value,track[s].attributes['lat'].value\n",
    "        lon_list.append(float(lon))\n",
    "        lat_list.append(float(lat))\n",
    "    start_finish = [date_time[0].firstChild.nodeValue, date_time[-1].firstChild.nodeValue]\n",
    "    start_finish = [datetime.strptime(start_finish[0], \"%Y-%m-%dT%H:%M:%S%z\").timestamp(), datetime.strptime(start_finish[1], \"%Y-%m-%dT%H:%M:%S%z\").timestamp()]\n",
    "    points = []\n",
    "    for i in range(len(lon_list)):\n",
    "        points.append([lat_list[i], lon_list[i]])\n",
    "\n",
    "    color = random.choice(colors)\n",
    "    print(gpx, end=\": \")\n",
    "    print(color)\n",
    "    folium.PolyLine(points, color=color).add_to(myMap)"
   ]
  },
  {
   "cell_type": "code",
   "execution_count": 51,
   "metadata": {
    "tags": []
   },
   "outputs": [],
   "source": [
    "foldername = \"C:\\\\Users\\\\TN90072\\\\Documents\\\\Python_Scripts\\\\Problems_VScode\"\n",
    "images = []\n",
    "for root, dirs, files in os.walk(foldername,topdown = True):\n",
    "    for name in files: \n",
    "        _, ending = os.path.splitext(name)\n",
    "        if ending == \".jpg\":\n",
    "            images.append(os.path.join(root,name))"
   ]
  },
  {
   "cell_type": "code",
   "execution_count": 52,
   "metadata": {
    "tags": []
   },
   "outputs": [],
   "source": [
    "for image in images:\n",
    "    with open(image, 'rb') as image_file:\n",
    "        my_image = Image(image_file)\n",
    "        \n",
    "        if my_image.has_exif == False:\n",
    "            #print(\"File {} has no EXIF\".format(image))\n",
    "            continue\n",
    "\n",
    "        try:\n",
    "            lat_deg = int(my_image.gps_latitude[0])\n",
    "            lat_min = int(my_image.gps_latitude[1])\n",
    "            lat_sec = my_image.gps_latitude[2]\n",
    "\n",
    "            lon_deg = int(my_image.gps_longitude[0])\n",
    "            lon_min = int(my_image.gps_longitude[1])\n",
    "            lon_sec = my_image.gps_longitude[2]\n",
    "\n",
    "            lat_sign = my_image.gps_latitude_ref\n",
    "            lon_sign = my_image.gps_longitude_ref\n",
    "\n",
    "            decimal_lat = lat_deg + lat_min/60 + lat_sec/3600\n",
    "            decimal_lon = lon_deg + lon_min/60 + lon_sec/3600\n",
    "        except AttributeError:\n",
    "            #print(\"File {} has no coordinates\".format(image))\n",
    "            continue\n",
    "\n",
    "        if lat_sign == \"S\":\n",
    "            decimal_lat *= -1\n",
    "\n",
    "        if lon_sign == \"W\":\n",
    "            decimal_lon *= -1\n",
    "\n",
    "        #photo_time = datetime.strptime(my_image.datetime, \"%Y:%m:%d %H:%M:%S\").timestamp()\n",
    "        #if start_finish[1] > photo_time > start_finish[0]:\n",
    "        #Add Marker\n",
    "        iframe = '''<iframe width=\"400\" height=\"225\" frameBorder=\"0\" src=\"{}\"</iframe>'''.format('file:///{}'.format(image).replace(\"\\\\\",\"/\"))\n",
    "        popup = folium.Popup(iframe, max_width=420)\n",
    "\n",
    "        folium.Marker(location=[decimal_lat, decimal_lon], tooltip=iframe, popup = popup, \n",
    "        icon=folium.Icon(color = 'gray', icon = 'image', prefix='fa')).add_to(myMap) # https://fontawesome.com/icons/image"
   ]
  },
  {
   "cell_type": "code",
   "execution_count": 53,
   "metadata": {},
   "outputs": [],
   "source": [
    "myMap.save(\"index2.html\")"
   ]
  },
  {
   "cell_type": "code",
   "execution_count": 54,
   "metadata": {},
   "outputs": [
    {
     "output_type": "execute_result",
     "data": {
      "text/plain": [
       "'\\nphoto_time = datetime.strptime(my_image.datetime, \"%Y:%m:%d %H:%M:%S\").timestamp()\\n#if start_finish[1] > photo_time > start_finish[0]:\\n#Add Marker\\niframe = \\'\\'\\'<iframe width=\"400\" height=\"225\" frameBorder=\"0\" src=\"{}\"</iframe>\\'\\'\\'.format(\\'file:///{}\\'.format(image).replace(\"\\\\\",\"/\"))\\npopup = folium.Popup(iframe, max_width=420)\\n\\nfolium.Marker(location=[decimal_lat, decimal_lon], tooltip=iframe, popup = popup, \\nicon=folium.Icon(color = \\'gray\\', icon = \\'image\\', prefix=\\'fa\\')).add_to(myMap) # https://fontawesome.com/icons/image\\n'"
      ]
     },
     "metadata": {},
     "execution_count": 54
    }
   ],
   "source": [
    "        \"\"\"\n",
    "        photo_time = datetime.strptime(my_image.datetime, \"%Y:%m:%d %H:%M:%S\").timestamp()\n",
    "        #if start_finish[1] > photo_time > start_finish[0]:\n",
    "        #Add Marker\n",
    "        iframe = '''<iframe width=\"400\" height=\"225\" frameBorder=\"0\" src=\"{}\"</iframe>'''.format('file:///{}'.format(image).replace(\"\\\\\",\"/\"))\n",
    "        popup = folium.Popup(iframe, max_width=420)\n",
    "\n",
    "        folium.Marker(location=[decimal_lat, decimal_lon], tooltip=iframe, popup = popup, \n",
    "        icon=folium.Icon(color = 'gray', icon = 'image', prefix='fa')).add_to(myMap) # https://fontawesome.com/icons/image\n",
    "        \"\"\""
   ]
  },
  {
   "cell_type": "code",
   "execution_count": null,
   "metadata": {},
   "outputs": [],
   "source": []
  }
 ]
}