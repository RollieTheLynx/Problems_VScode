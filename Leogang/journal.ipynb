{
 "cells": [
  {
   "cell_type": "code",
   "execution_count": 1,
   "metadata": {},
   "outputs": [],
   "source": [
    "import pandas as pd\n",
    "import numpy as np\n",
    "import os"
   ]
  },
  {
   "cell_type": "code",
   "execution_count": 2,
   "metadata": {},
   "outputs": [
    {
     "name": "stdout",
     "output_type": "stream",
     "text": [
      "                      Номенклатура                       Характеристика  \\\n",
      "0  16\" SHULZ Bubble 16 Race (2021)   black/черный, one size, арт YS-768   \n",
      "1  16\" SHULZ Bubble 16 Race (2021)    red/красный, one size, арт YS-715   \n",
      "2  16\" SHULZ Bubble 16 Race (2021)  yellow/желтый, one size, арт YS-702   \n",
      "3   16\" SHULZ Chloe 16 Race (2021)    white/белый, one size, арт YS-775   \n",
      "4  20\" SHULZ Bubble 20 Race (2021)   black/черный, one size, арт YS-768   \n",
      "\n",
      "   Количество товаров  Сумма продаж без скидки  Сумма продаж со скидкой  \\\n",
      "0                 5.0                  69000.0                  69000.0   \n",
      "1                 5.0                  70500.0                  70500.0   \n",
      "2                 5.0                  70500.0                  70500.0   \n",
      "3                 5.0                  70500.0                  70500.0   \n",
      "4                 5.0                  76500.0                  76500.0   \n",
      "\n",
      "   Средняя стоимость без скидки  Средняя стоимость со скидкой  \n",
      "0                       13800.0                       13800.0  \n",
      "1                       14100.0                       14100.0  \n",
      "2                       14100.0                       14100.0  \n",
      "3                       14100.0                       14100.0  \n",
      "4                       15300.0                       15300.0  \n"
     ]
    }
   ],
   "source": [
    "    sales_file = 'C:\\\\Users\\\\Михаил\\\\Python Scripts\\\\Problems_VScode\\\\Leogang'\n",
    "    file = 'Продажи processed.xlsx'\n",
    "    df = pd.read_excel(os.path.join(sales_file, file), engine='openpyxl')\n",
    "\n",
    "    print(df.head())\n",
    "\n"
   ]
  },
  {
   "cell_type": "code",
   "execution_count": 3,
   "metadata": {},
   "outputs": [
    {
     "name": "stdout",
     "output_type": "stream",
     "text": [
      "Номенклатура                     object\n",
      "Характеристика                   object\n",
      "Количество товаров                int32\n",
      "Сумма продаж без скидки         float64\n",
      "Сумма продаж со скидкой         float64\n",
      "Средняя стоимость без скидки    float64\n",
      "Средняя стоимость со скидкой    float64\n",
      "dtype: object\n"
     ]
    }
   ],
   "source": [
    "    df[\"Количество товаров\"].replace(np.nan, 0, inplace = True)\n",
    "    df = df.astype({\"Количество товаров\": int})\n",
    "    print(df.dtypes)"
   ]
  },
  {
   "cell_type": "markdown",
   "metadata": {},
   "source": [
    "    Какая номенклутура лучше всего продалась в шт?\n",
    "    \n",
    "    Какая принесла больше всего выручки?"
   ]
  },
  {
   "cell_type": "code",
   "execution_count": 9,
   "metadata": {},
   "outputs": [
    {
     "data": {
      "text/plain": [
       "2188"
      ]
     },
     "execution_count": 9,
     "metadata": {},
     "output_type": "execute_result"
    }
   ],
   "source": [
    "# всего товаров\n",
    "df['Номенклатура'].nunique()"
   ]
  }
 ],
 "metadata": {
  "interpreter": {
   "hash": "602f8461da5ca99708f6bce605b729ab19e0675f3d677d9614cecbee9cb7f9c9"
  },
  "kernelspec": {
   "display_name": "Python 3.10.0 64-bit (system)",
   "language": "python",
   "name": "python3"
  },
  "language_info": {
   "codemirror_mode": {
    "name": "ipython",
    "version": 3
   },
   "file_extension": ".py",
   "mimetype": "text/x-python",
   "name": "python",
   "nbconvert_exporter": "python",
   "pygments_lexer": "ipython3",
   "version": "3.10.0"
  },
  "orig_nbformat": 4
 },
 "nbformat": 4,
 "nbformat_minor": 2
}
